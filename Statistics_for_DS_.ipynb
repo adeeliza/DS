{
  "nbformat": 4,
  "nbformat_minor": 0,
  "metadata": {
    "colab": {
      "name": "Statistics for DS .ipynb",
      "provenance": [],
      "authorship_tag": "ABX9TyOtAG05rJ1NgxqBar+V6TIM",
      "include_colab_link": true
    },
    "kernelspec": {
      "name": "python3",
      "display_name": "Python 3"
    },
    "language_info": {
      "name": "python"
    }
  },
  "cells": [
    {
      "cell_type": "markdown",
      "metadata": {
        "id": "view-in-github",
        "colab_type": "text"
      },
      "source": [
        "<a href=\"https://colab.research.google.com/github/adeeliza/DS/blob/main/Statistics_for_DS_.ipynb\" target=\"_parent\"><img src=\"https://colab.research.google.com/assets/colab-badge.svg\" alt=\"Open In Colab\"/></a>"
      ]
    },
    {
      "cell_type": "code",
      "metadata": {
        "id": "khvBSZVSUOaI"
      },
      "source": [
        "import pandas as pd\n",
        "import numpy as np\n",
        "import seaborn as sns\n",
        "import matplotlib.pyplot as plt\n",
        "\n",
        "%matplotlib inline"
      ],
      "execution_count": 4,
      "outputs": []
    },
    {
      "cell_type": "code",
      "metadata": {
        "id": "2CQ9E7ClUyzL"
      },
      "source": [
        "df = pd.DataFrame({'movie':['a', 'b', 'c', 'a', 'b', 'c', 'a', 'b', 'c'],\n",
        "                   'rating':[9,7,6,9,5,7,8,9,5]})"
      ],
      "execution_count": 5,
      "outputs": []
    },
    {
      "cell_type": "code",
      "metadata": {
        "colab": {
          "base_uri": "https://localhost:8080/"
        },
        "id": "8UwihKf0WgQ9",
        "outputId": "4a5d1d9e-f835-4a50-9e87-fdcb6ee912e9"
      },
      "source": [
        "df.mean()"
      ],
      "execution_count": null,
      "outputs": [
        {
          "output_type": "execute_result",
          "data": {
            "text/plain": [
              "rating    7.222222\n",
              "dtype: float64"
            ]
          },
          "metadata": {},
          "execution_count": 4
        }
      ]
    },
    {
      "cell_type": "code",
      "metadata": {
        "colab": {
          "base_uri": "https://localhost:8080/"
        },
        "id": "slRcNYyIceM6",
        "outputId": "f21d69e7-aa39-4feb-daee-4f3edcf14bae"
      },
      "source": [
        "df.rating.mean()"
      ],
      "execution_count": null,
      "outputs": [
        {
          "output_type": "execute_result",
          "data": {
            "text/plain": [
              "7.222222222222222"
            ]
          },
          "metadata": {},
          "execution_count": 5
        }
      ]
    },
    {
      "cell_type": "code",
      "metadata": {
        "colab": {
          "base_uri": "https://localhost:8080/",
          "height": 386
        },
        "id": "WyNA6_mKclGQ",
        "outputId": "5d4bf97e-7770-45d4-e532-da78af6f7ed0"
      },
      "source": [
        "sns.displot(df, kde=True, rug=True)\n",
        "plt.axvline(np.mean(df.rating), color='r', linestyle='-')\n",
        "plt.axvline(np.median(df.rating), color='g', linestyle='-')\n",
        "plt.axvline(df.rating.mode().values[0], color='y', linestyle='-')"
      ],
      "execution_count": null,
      "outputs": [
        {
          "output_type": "execute_result",
          "data": {
            "text/plain": [
              "<matplotlib.lines.Line2D at 0x7fa8a66ca6d0>"
            ]
          },
          "metadata": {},
          "execution_count": 8
        },
        {
          "output_type": "display_data",
          "data": {
            "image/png": "[encoded data removed]",
            "text/plain": [
              "<Figure size 425.75x360 with 1 Axes>"
            ]
          },
          "metadata": {
            "needs_background": "light"
          }
        }
      ]
    },
    {
      "cell_type": "code",
      "metadata": {
        "colab": {
          "base_uri": "https://localhost:8080/",
          "height": 279
        },
        "id": "OtiaY7WI3H0u",
        "outputId": "b415d69e-b8fb-4a26-b12a-dcfae92867d2"
      },
      "source": [
        "f, (ax_box, ax_hist) = plt.subplots(2, sharex=True, gridspec_kw={'height_ratios':(0.2, 1)})\n",
        "mean = np.mean(df.rating)\n",
        "median = np.median(df.rating)\n",
        "mode = df.rating.mode().values[0]\n",
        "\n",
        "sns.boxplot(data=df, x='rating', ax=ax_box)\n",
        "ax_box.axvline(mean, color='r', linestyle= '-')\n",
        "ax_box.axvline(median, color='g', linestyle= '-')\n",
        "ax_box.axvline(mode, color='b', linestyle= '-')\n",
        "\n",
        "sns.histplot(data=df, x='rating', ax=ax_hist, kde=True)\n",
        "ax_hist.axvline(mean, color='r', linestyle='-', label='Mean')\n",
        "ax_hist.axvline(median, color='g', linestyle='-', label='Median')\n",
        "ax_hist.axvline(mode, color='b', linestyle='-', label='Mode')\n",
        "\n",
        "ax_hist.legend()\n",
        "ax_box.set(xlabel='')\n",
        "plt.show()\n"
      ],
      "execution_count": null,
      "outputs": [
        {
          "output_type": "display_data",
          "data": {
            "image/png": "[encoded data removed]",
            "text/plain": [
              "<Figure size 432x288 with 2 Axes>"
            ]
          },
          "metadata": {
            "needs_background": "light"
          }
        }
      ]
    },
    {
      "cell_type": "code",
      "metadata": {
        "colab": {
          "base_uri": "https://localhost:8080/"
        },
        "id": "n7jmwGqZpAvs",
        "outputId": "8632e05e-e571-4675-ae76-4c02b9e33a59"
      },
      "source": [
        "df.rating.var()"
      ],
      "execution_count": 6,
      "outputs": [
        {
          "output_type": "execute_result",
          "data": {
            "text/plain": [
              "2.6944444444444446"
            ]
          },
          "metadata": {},
          "execution_count": 6
        }
      ]
    },
    {
      "cell_type": "code",
      "metadata": {
        "colab": {
          "base_uri": "https://localhost:8080/"
        },
        "id": "atIJXkO3pHOg",
        "outputId": "9ff88fd0-97ee-4147-9cb8-341587214585"
      },
      "source": [
        "df.rating.std()"
      ],
      "execution_count": 8,
      "outputs": [
        {
          "output_type": "execute_result",
          "data": {
            "text/plain": [
              "1.6414763002993509"
            ]
          },
          "metadata": {},
          "execution_count": 8
        }
      ]
    },
    {
      "cell_type": "code",
      "metadata": {
        "colab": {
          "base_uri": "https://localhost:8080/"
        },
        "id": "mZyURc8ap2II",
        "outputId": "0fec3efd-0e84-42a7-b1c6-efb9d5476139"
      },
      "source": [
        "mean = df.groupby(['movie'])['rating'].mean()\n",
        "std = df.groupby(['movie'])['rating'].std()\n",
        "\n",
        "mean"
      ],
      "execution_count": 9,
      "outputs": [
        {
          "output_type": "execute_result",
          "data": {
            "text/plain": [
              "movie\n",
              "a    8.666667\n",
              "b    7.000000\n",
              "c    6.000000\n",
              "Name: rating, dtype: float64"
            ]
          },
          "metadata": {},
          "execution_count": 9
        }
      ]
    },
    {
      "cell_type": "code",
      "metadata": {
        "colab": {
          "base_uri": "https://localhost:8080/"
        },
        "id": "wM2WM-Y0qsLU",
        "outputId": "33cf0536-6de4-473c-9dc8-52ebc14cc191"
      },
      "source": [
        "std"
      ],
      "execution_count": 10,
      "outputs": [
        {
          "output_type": "execute_result",
          "data": {
            "text/plain": [
              "movie\n",
              "a    0.57735\n",
              "b    2.00000\n",
              "c    1.00000\n",
              "Name: rating, dtype: float64"
            ]
          },
          "metadata": {},
          "execution_count": 10
        }
      ]
    },
    {
      "cell_type": "code",
      "metadata": {
        "colab": {
          "base_uri": "https://localhost:8080/",
          "height": 293
        },
        "id": "VgwxYzGRrDOd",
        "outputId": "d6b7a3ab-80d2-4387-af2a-3c7623cbefae"
      },
      "source": [
        "fig, ax =plt.subplots()\n",
        "mean.plot.bar(yerr=std, ax=ax, capsize=4)"
      ],
      "execution_count": 11,
      "outputs": [
        {
          "output_type": "execute_result",
          "data": {
            "text/plain": [
              "<matplotlib.axes._subplots.AxesSubplot at 0x7f68c77e71d0>"
            ]
          },
          "metadata": {},
          "execution_count": 11
        },
        {
          "output_type": "display_data",
          "data": {
            "image/png": "[encoded data removed]",
            "text/plain": [
              "<Figure size 432x288 with 1 Axes>"
            ]
          },
          "metadata": {
            "needs_background": "light"
          }
        }
      ]
    }
  ]
}